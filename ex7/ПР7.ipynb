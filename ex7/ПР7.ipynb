{
 "cells": [
  {
   "cell_type": "code",
   "execution_count": 3,
   "metadata": {},
   "outputs": [
    {
     "name": "stdout",
     "output_type": "stream",
     "text": [
      "False\n",
      "Another notepad\n"
     ]
    }
   ],
   "source": [
    "class Notepad:\n",
    "    notes = []\n",
    "    name = \"\"\n",
    "    \n",
    "    def __init__(self, name):\n",
    "        self.name = name\n",
    "        \n",
    "    def __del__(self):\n",
    "        self.name = \"\"\n",
    "        self.notes.clear()\n",
    "        \n",
    "    def __str__(self):\n",
    "        return self.name\n",
    "        \n",
    "    def __lt__(self, other):\n",
    "        return len(self.notes) < len(other.notes)\n",
    "    \n",
    "    def __gt__(self, other):\n",
    "        return len(self.notes) > len(other.notes)\n",
    "\n",
    "class Apartment:\n",
    "    address = \"\"\n",
    "    \n",
    "    def __init__(self, address):\n",
    "        self.address = address\n",
    "    \n",
    "    def __del__(self):\n",
    "        self.address = \"\"\n",
    "    \n",
    "class Owner:\n",
    "    apartments = []\n",
    "    \n",
    "    def __init__(self, address):\n",
    "        self.apartments.append(Apartment(address))\n",
    "    \n",
    "    def __del__(self):\n",
    "        self.apartments.clear()\n",
    "\n",
    "notepad = Notepad(\"Notepad\")\n",
    "notepad2 = Notepad(\"Another notepad\")\n",
    "notepad.notes.append([\"text\", \"test\"])\n",
    "notepad2.notes.append(\"text\")\n",
    "print(notepad < notepad2)\n",
    "print(notepad2)"
   ]
  },
  {
   "cell_type": "code",
   "execution_count": null,
   "metadata": {},
   "outputs": [],
   "source": []
  }
 ],
 "metadata": {
  "kernelspec": {
   "display_name": "Python 3",
   "language": "python",
   "name": "python3"
  },
  "language_info": {
   "codemirror_mode": {
    "name": "ipython",
    "version": 3
   },
   "file_extension": ".py",
   "mimetype": "text/x-python",
   "name": "python",
   "nbconvert_exporter": "python",
   "pygments_lexer": "ipython3",
   "version": "3.8.5"
  }
 },
 "nbformat": 4,
 "nbformat_minor": 4
}
