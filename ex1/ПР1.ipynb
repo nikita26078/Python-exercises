{
 "cells": [
  {
   "cell_type": "code",
   "execution_count": 29,
   "metadata": {},
   "outputs": [
    {
     "name": "stdout",
     "output_type": "stream",
     "text": [
      "Введите a: 5\n",
      "Введите b: 8\n",
      "a = 8\n",
      "b = 5\n"
     ]
    }
   ],
   "source": [
    "a = int(input(\"Введите a: \"))\n",
    "b = int(input(\"Введите b: \"))\n",
    "(b, a) = (a, b)\n",
    "print(\"a =\", a)\n",
    "print(\"b =\", b)"
   ]
  },
  {
   "cell_type": "code",
   "execution_count": 51,
   "metadata": {},
   "outputs": [
    {
     "name": "stdout",
     "output_type": "stream",
     "text": [
      "Введите число: 56\n",
      "Сумма - 11\n"
     ]
    }
   ],
   "source": [
    "a_str = input(\"Введите число: \")\n",
    "sum = 0\n",
    "for l in a_str:\n",
    "    sum += int(l)\n",
    "print(\"Сумма -\", sum)"
   ]
  },
  {
   "cell_type": "code",
   "execution_count": 48,
   "metadata": {},
   "outputs": [
    {
     "name": "stdout",
     "output_type": "stream",
     "text": [
      "Введите a: 1\n",
      "Введите b: -3\n",
      "Введите c: 2\n",
      "1\n",
      "x1 = 2.0\n",
      "x2 = 1.0\n"
     ]
    }
   ],
   "source": [
    "try:\n",
    "    a = int(input(\"Введите a: \"))\n",
    "    b = int(input(\"Введите b: \"))\n",
    "    c = int(input(\"Введите c: \"))\n",
    "    if a != 0:\n",
    "        d = b*b - 4*a*c\n",
    "        if d > 0:\n",
    "            x1 = (-b + d**(1/2)) / (2*a)\n",
    "            x2 = (-b - d**(1/2)) / (2*a)\n",
    "            print(\"x1 =\", x1)\n",
    "            print(\"x2 =\", x2)\n",
    "        elif d == 0:\n",
    "            x = -b / (2*a)\n",
    "            print(\"x =\", x)\n",
    "        else:\n",
    "            print(\"Дискриминант меньше нуля, уравнение не имеет действительных решений\")\n",
    "    else:\n",
    "        print(\"Это не квадратное уравнение\")\n",
    "except ValueError:\n",
    "    print(\"Все переменные должны быть числами\")"
   ]
  },
  {
   "cell_type": "code",
   "execution_count": null,
   "metadata": {},
   "outputs": [],
   "source": []
  },
  {
   "cell_type": "code",
   "execution_count": null,
   "metadata": {},
   "outputs": [],
   "source": []
  }
 ],
 "metadata": {
  "kernelspec": {
   "display_name": "Python 3",
   "language": "python",
   "name": "python3"
  },
  "language_info": {
   "codemirror_mode": {
    "name": "ipython",
    "version": 3
   },
   "file_extension": ".py",
   "mimetype": "text/x-python",
   "name": "python",
   "nbconvert_exporter": "python",
   "pygments_lexer": "ipython3",
   "version": "3.8.5"
  }
 },
 "nbformat": 4,
 "nbformat_minor": 4
}
