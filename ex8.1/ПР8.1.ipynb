{
 "cells": [
  {
   "cell_type": "code",
   "execution_count": 7,
   "metadata": {},
   "outputs": [
    {
     "name": "stdout",
     "output_type": "stream",
     "text": [
      "Red HP: 48\n",
      "Blue HP: -1\n"
     ]
    }
   ],
   "source": [
    "from random import randrange\n",
    "\n",
    "class Warrior:\n",
    "    hp = 100\n",
    "    armor = 0\n",
    "    \n",
    "    def attack(self, other):\n",
    "        other.hp -= int(randrange(11) * (self.armor / 10))\n",
    "    \n",
    "class Red(Warrior):\n",
    "    armor = 5\n",
    "    \n",
    "class Blue(Warrior):\n",
    "    armor = 3\n",
    "    \n",
    "r = Red()\n",
    "b = Blue()\n",
    "while r.hp > 0 and b.hp > 0:\n",
    "    r.attack(b)\n",
    "    if b.hp <= 0:\n",
    "        break\n",
    "    b.attack(r)\n",
    "print(\"Red HP:\", r.hp)\n",
    "print(\"Blue HP:\", b.hp)"
   ]
  },
  {
   "cell_type": "code",
   "execution_count": null,
   "metadata": {},
   "outputs": [],
   "source": []
  },
  {
   "cell_type": "code",
   "execution_count": null,
   "metadata": {},
   "outputs": [],
   "source": []
  }
 ],
 "metadata": {
  "kernelspec": {
   "display_name": "Python 3",
   "language": "python",
   "name": "python3"
  },
  "language_info": {
   "codemirror_mode": {
    "name": "ipython",
    "version": 3
   },
   "file_extension": ".py",
   "mimetype": "text/x-python",
   "name": "python",
   "nbconvert_exporter": "python",
   "pygments_lexer": "ipython3",
   "version": "3.8.5"
  }
 },
 "nbformat": 4,
 "nbformat_minor": 4
}
