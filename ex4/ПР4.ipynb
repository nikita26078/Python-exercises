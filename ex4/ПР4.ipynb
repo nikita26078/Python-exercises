{
 "cells": [
  {
   "cell_type": "code",
   "execution_count": 5,
   "metadata": {},
   "outputs": [
    {
     "name": "stdout",
     "output_type": "stream",
     "text": [
      "Введите количество дисков: 5\n",
      "Колышек 1:  []\n",
      "Колышек 2:  []\n",
      "Колышек 3:  [5, 4, 3, 2, 1]\n"
     ]
    }
   ],
   "source": [
    "def move(n, from_t, to_t, other_t):\n",
    "    if n != 0:\n",
    "        # Перемещаем диски с начального колышка на промежуточный\n",
    "        move(n - 1, from_t, other_t, to_t)\n",
    "        to_t.append(from_t.pop())\n",
    "        # Перемещаем диски с промежуточного колышка на конечный\n",
    "        move(n - 1, other_t, to_t, from_t)\n",
    "\n",
    "n = int(input(\"Введите количество дисков: \"))\n",
    "tower1 = [n - x for x in range(n)]\n",
    "tower2 = []\n",
    "tower3 = []\n",
    "move(n, tower1, tower3, tower2)\n",
    "print(\"Колышек 1: \", tower1)\n",
    "print(\"Колышек 2: \", tower2)\n",
    "print(\"Колышек 3: \", tower3)"
   ]
  },
  {
   "cell_type": "code",
   "execution_count": null,
   "metadata": {},
   "outputs": [],
   "source": []
  }
 ],
 "metadata": {
  "kernelspec": {
   "display_name": "Python 3",
   "language": "python",
   "name": "python3"
  },
  "language_info": {
   "codemirror_mode": {
    "name": "ipython",
    "version": 3
   },
   "file_extension": ".py",
   "mimetype": "text/x-python",
   "name": "python",
   "nbconvert_exporter": "python",
   "pygments_lexer": "ipython3",
   "version": "3.8.5"
  }
 },
 "nbformat": 4,
 "nbformat_minor": 4
}
