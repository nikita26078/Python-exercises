{
 "cells": [
  {
   "cell_type": "code",
   "execution_count": 2,
   "metadata": {},
   "outputs": [
    {
     "name": "stdout",
     "output_type": "stream",
     "text": [
      "Часы: 23 , минуты: 59 , секунды: 0\n",
      "Часы: 1 , минуты: 0 , секунды: 1\n"
     ]
    }
   ],
   "source": [
    "class Clock:\n",
    "    \n",
    "    def __init__(self, hours, minutes, seconds):\n",
    "        self.__hours = hours\n",
    "        self.__minutes = minutes\n",
    "        self.__seconds = seconds\n",
    "    \n",
    "    def add_minute(self):\n",
    "        if (self.__minutes < 59):\n",
    "            self.__minutes += 1\n",
    "        else:\n",
    "            self.add_hour()\n",
    "            self.__minutes = 0\n",
    "        \n",
    "    def add_second(self):\n",
    "        if (self.__seconds < 59):\n",
    "            self.__seconds += 1\n",
    "        else:      \n",
    "            self.add_minute()\n",
    "            self.__seconds = 0\n",
    "        \n",
    "    def add_hour(self):\n",
    "        if (self.__hours < 23):\n",
    "            self.__hours += 1\n",
    "        else:\n",
    "            self.__hours = 0\n",
    "    \n",
    "    def print_time(self):\n",
    "        print(\"Часы:\", self.__hours, \", минуты:\", self.__minutes, \", секунды:\", self.__seconds)\n",
    "            \n",
    "clock = Clock(23, 59, 0)\n",
    "clock.print_time()\n",
    "clock.add_hour()\n",
    "clock.add_minute()\n",
    "clock.add_second()\n",
    "clock.print_time()"
   ]
  },
  {
   "cell_type": "code",
   "execution_count": 7,
   "metadata": {},
   "outputs": [
    {
     "name": "stdout",
     "output_type": "stream",
     "text": [
      "4\n",
      "10\n",
      "113.03999999999999\n"
     ]
    }
   ],
   "source": [
    "class Square:\n",
    "    \n",
    "    def __init__(self, a):\n",
    "        self.a = a\n",
    "        \n",
    "    def get_area(self):\n",
    "        return self.a * self.a\n",
    "    \n",
    "class Rectangle:\n",
    "    \n",
    "    def __init__(self, a, b):\n",
    "        self.a = a\n",
    "        self.b = b\n",
    "        \n",
    "    def get_area(self):\n",
    "        return self.a * self.b  \n",
    "    \n",
    "class Circle:\n",
    "    \n",
    "    def __init__(self, r):\n",
    "        self.r = r\n",
    "        \n",
    "    def get_area(self):\n",
    "        return 3.14 * self.r * self.r\n",
    "    \n",
    "square = Square(2)\n",
    "rect = Rectangle(2, 5)\n",
    "circle = Circle(6)\n",
    "l = [square, rect, circle]\n",
    "for i in l:\n",
    "    print(i.get_area())"
   ]
  },
  {
   "cell_type": "code",
   "execution_count": 10,
   "metadata": {},
   "outputs": [
    {
     "name": "stdout",
     "output_type": "stream",
     "text": [
      "8\n",
      "70\n",
      "904.3199999999998\n"
     ]
    }
   ],
   "source": [
    "class Cube:\n",
    "    \n",
    "    def __init__(self, a):\n",
    "        self.a = a\n",
    "        \n",
    "    def get_volume(self):\n",
    "        return self.a * self.a * self.a\n",
    "    \n",
    "class Parall:\n",
    "    \n",
    "    def __init__(self, a, b, c):\n",
    "        self.a = a\n",
    "        self.b = b\n",
    "        self.c = c\n",
    "        \n",
    "    def get_volume(self):\n",
    "        return self.a * self.b * self.c\n",
    "    \n",
    "class Sphere:\n",
    "    \n",
    "    def __init__(self, r):\n",
    "        self.r = r\n",
    "        \n",
    "    def get_volume(self):\n",
    "        return 4 / 3 * 3.14 * self.r * self.r * self.r\n",
    "    \n",
    "cube = Cube(2)\n",
    "para = Parall(2, 5, 7)\n",
    "sphere = Sphere(6)\n",
    "l = [cube, para, sphere]\n",
    "for i in l:\n",
    "    print(i.get_volume())"
   ]
  },
  {
   "cell_type": "code",
   "execution_count": null,
   "metadata": {},
   "outputs": [],
   "source": []
  }
 ],
 "metadata": {
  "kernelspec": {
   "display_name": "Python 3",
   "language": "python",
   "name": "python3"
  },
  "language_info": {
   "codemirror_mode": {
    "name": "ipython",
    "version": 3
   },
   "file_extension": ".py",
   "mimetype": "text/x-python",
   "name": "python",
   "nbconvert_exporter": "python",
   "pygments_lexer": "ipython3",
   "version": "3.8.5"
  }
 },
 "nbformat": 4,
 "nbformat_minor": 4
}
