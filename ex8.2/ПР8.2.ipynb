{
 "cells": [
  {
   "cell_type": "code",
   "execution_count": 8,
   "metadata": {},
   "outputs": [
    {
     "name": "stdout",
     "output_type": "stream",
     "text": [
      "100\n"
     ]
    }
   ],
   "source": [
    "class Car:\n",
    "    \n",
    "    def __init__(self):\n",
    "        self.__speed = 0\n",
    "        self.__type = \"\"\n",
    "        self.__name = \"\"\n",
    "    \n",
    "    def set_speed(self, speed):\n",
    "        self.__speed = speed\n",
    "    \n",
    "    def set_type(self, car_type):\n",
    "        self.__type = car_type\n",
    "    \n",
    "    def set_name(self, name):\n",
    "        self.__name = name\n",
    "    \n",
    "    def get_speed(self):\n",
    "        return self.__speed\n",
    "    \n",
    "    def get_type(self):\n",
    "        return self.__type\n",
    "    \n",
    "    def get_name(self):\n",
    "        return self.__name\n",
    "\n",
    "car = Car()\n",
    "car.set_speed(100)\n",
    "car.set_type(\"Спортивная\")\n",
    "car.set_name(\"Audi A8\")\n",
    "print(car.get_speed())"
   ]
  },
  {
   "cell_type": "code",
   "execution_count": 9,
   "metadata": {},
   "outputs": [
    {
     "name": "stdout",
     "output_type": "stream",
     "text": [
      "50\n"
     ]
    }
   ],
   "source": [
    "class Animal:\n",
    "    \n",
    "    def __init__(self, health):\n",
    "        self.__health = health\n",
    "    \n",
    "    def eat(self, grass):\n",
    "        if (self.__health < 100):\n",
    "            self.__health += grass.get_value()\n",
    "        else:\n",
    "            print(\"Уже наелся\")\n",
    "            \n",
    "    def get_health(self):\n",
    "        return self.__health\n",
    "    \n",
    "class Grass:\n",
    "    \n",
    "    def __init__(self, value):\n",
    "        self.__value = value\n",
    "        \n",
    "    def get_value(self):\n",
    "        return self.__value\n",
    "        \n",
    "cat = Animal(10)\n",
    "grass = Grass(20)\n",
    "cat.eat(grass)\n",
    "cat.eat(grass)\n",
    "print(cat.get_health())"
   ]
  },
  {
   "cell_type": "code",
   "execution_count": 4,
   "metadata": {},
   "outputs": [
    {
     "name": "stdout",
     "output_type": "stream",
     "text": [
      "Часы: 23 , минуты: 59 , секунды: 0\n",
      "Часы: 1 , минуты: 0 , секунды: 1\n"
     ]
    }
   ],
   "source": [
    "class Clock:\n",
    "    \n",
    "    def __init__(self, hours, minutes, seconds):\n",
    "        self.__hours = hours\n",
    "        self.__minutes = minutes\n",
    "        self.__seconds = seconds\n",
    "    \n",
    "    def add_minute(self):\n",
    "        if (self.__minutes < 59):\n",
    "            self.__minutes += 1\n",
    "        else:\n",
    "            self.add_hour()\n",
    "            self.__minutes = 0\n",
    "        \n",
    "    def add_second(self):\n",
    "        if (self.__seconds < 59):\n",
    "            self.__seconds += 1\n",
    "        else:      \n",
    "            self.add_minute()\n",
    "            self.__seconds = 0\n",
    "        \n",
    "    def add_hour(self):\n",
    "        if (self.__hours < 23):\n",
    "            self.__hours += 1\n",
    "        else:\n",
    "            self.__hours = 0\n",
    "    \n",
    "    def print_time(self):\n",
    "        print(\"Часы:\", self.__hours, \", минуты:\", self.__minutes, \", секунды:\", self.__seconds)\n",
    "            \n",
    "clock = Clock(23, 59, 0)\n",
    "clock.print_time()\n",
    "clock.add_hour()\n",
    "clock.add_minute()\n",
    "clock.add_second()\n",
    "clock.print_time()"
   ]
  },
  {
   "cell_type": "code",
   "execution_count": null,
   "metadata": {},
   "outputs": [],
   "source": []
  }
 ],
 "metadata": {
  "kernelspec": {
   "display_name": "Python 3",
   "language": "python",
   "name": "python3"
  },
  "language_info": {
   "codemirror_mode": {
    "name": "ipython",
    "version": 3
   },
   "file_extension": ".py",
   "mimetype": "text/x-python",
   "name": "python",
   "nbconvert_exporter": "python",
   "pygments_lexer": "ipython3",
   "version": "3.8.5"
  }
 },
 "nbformat": 4,
 "nbformat_minor": 4
}
