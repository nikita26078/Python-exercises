{
  "nbformat": 4,
  "nbformat_minor": 0,
  "metadata": {
    "kernelspec": {
      "display_name": "Python 3",
      "language": "python",
      "name": "python3"
    },
    "language_info": {
      "codemirror_mode": {
        "name": "ipython",
        "version": 3
      },
      "file_extension": ".py",
      "mimetype": "text/x-python",
      "name": "python",
      "nbconvert_exporter": "python",
      "pygments_lexer": "ipython3",
      "version": "3.8.5"
    },
    "colab": {
      "name": "ПР2_Шакарун.ipynb",
      "provenance": [],
      "collapsed_sections": [],
      "toc_visible": true
    }
  },
  "cells": [
    {
      "cell_type": "code",
      "metadata": {
        "id": "gA4ARS4zI6XM",
        "colab": {
          "base_uri": "https://localhost:8080/"
        },
        "outputId": "23772843-bcd1-4a96-cb90-49ed18405848"
      },
      "source": [
        "x = int(input(\"Введите x: \"))\n",
        "y = int(input(\"Введите y: \"))\n",
        "x1 = 0\n",
        "y1 = 0\n",
        "min_num = 0\n",
        "move = \"север\"\n",
        "direction = input(\"Введите направление: \")\n",
        "while direction != \"стоп\":\n",
        "    if x == x1 and y == y1:\n",
        "        # Программа останавливается, если клад найден\n",
        "        break\n",
        "    else:\n",
        "        # Движение вперёд\n",
        "        if direction == \"вперёд\":\n",
        "            steps = int(input(\"Введите количество шагов: \"))\n",
        "            if move == \"север\":\n",
        "                y1 += steps\n",
        "            elif move == \"запад\":\n",
        "                x1 -= steps\n",
        "            elif move == \"юг\":\n",
        "                y1 -= steps\n",
        "            elif move == \"восток\":\n",
        "                x1 += steps\n",
        "        # Определение направления взгляда\n",
        "        elif direction == \"направо\":\n",
        "            if move == \"север\":\n",
        "                move = \"восток\"\n",
        "            elif move == \"восток\":\n",
        "                move = \"юг\"\n",
        "            elif move == \"юг\":\n",
        "                move = \"запад\"\n",
        "            elif move == \"запад\":\n",
        "                move = \"север\"\n",
        "        elif direction == \"налево\":\n",
        "            if move == \"север\":\n",
        "                move = \"запад\"\n",
        "            elif move == \"запад\":\n",
        "                move = \"юг\"\n",
        "            elif move == \"юг\":\n",
        "                move = \"восток\"\n",
        "            elif move == \"восток\":\n",
        "                move = \"север\"\n",
        "        elif direction == \"разворот\":\n",
        "            if move == \"север\":\n",
        "                move = \"юг\"\n",
        "            elif move == \"юг\":\n",
        "                move = \"север\"\n",
        "            elif move == \"запад\":\n",
        "                move = \"восток\"\n",
        "            elif move == \"восток\":\n",
        "                move = \"запад\"\n",
        "        min_num += 1\n",
        "        direction = input(\"Введите направление: \")\n",
        "print(min_num)\n",
        "print(move)"
      ],
      "execution_count": 23,
      "outputs": [
        {
          "output_type": "stream",
          "text": [
            "Введите x: 5\n",
            "Введите y: 6\n",
            "Введите направление: вперёд\n",
            "Введите количество шагов: 6\n",
            "Введите направление: направо\n",
            "Введите направление: вперёд\n",
            "Введите количество шагов: 5\n",
            "Введите направление: стоп\n",
            "3\n",
            "восток\n"
          ],
          "name": "stdout"
        }
      ]
    },
    {
      "cell_type": "code",
      "metadata": {
        "id": "AOmJ4KcgI6XM",
        "colab": {
          "base_uri": "https://localhost:8080/"
        },
        "outputId": "e1577bbb-fe7a-4951-848f-7ba1e8b163c8"
      },
      "source": [
        "d = int(input(\"Введите день: \"))\n",
        "m = int(input(\"Введите месяц: \"))\n",
        "y = int(input(\"Введите год: \"))\n",
        "if d > 0 and d <= 31 and m > 0 and m <= 12 and y > 0:\n",
        "    y = y if (m - 2) > 0 else y - 1\n",
        "    m = m - 2 if (m - 2) > 0 else 12 - abs(m - 2)\n",
        "    c = y // 100\n",
        "    y = y % 100\n",
        "    res = d + ((13 * m - 1) // 5) + y + (y // 4 + c // 4 - 2 * c + 777)\n",
        "    print(res % 7)\n",
        "else:\n",
        "    print(\"Введены неверные данные\")"
      ],
      "execution_count": 22,
      "outputs": [
        {
          "output_type": "stream",
          "text": [
            "Введите день: 1\n",
            "Введите месяц: 9\n",
            "Введите год: 2001\n",
            "6\n"
          ],
          "name": "stdout"
        }
      ]
    },
    {
      "cell_type": "code",
      "metadata": {
        "id": "In38--ZVI6XL",
        "colab": {
          "base_uri": "https://localhost:8080/"
        },
        "outputId": "36af5523-3e72-4b2a-a8a6-9da9585de076"
      },
      "source": [
        "str = input(\"Введите строку: \")\n",
        "print(str[2])\n",
        "print(str[-2])\n",
        "print(str[0:5])\n",
        "print(str[0:-2])\n",
        "print(str[0::2])\n",
        "print(str[1::2])\n",
        "print(str[::-1])\n",
        "print(str[::-2])\n",
        "print(len(str))"
      ],
      "execution_count": 2,
      "outputs": [
        {
          "output_type": "stream",
          "text": [
            "Введите строку: Abrakadabra\n",
            "r\n",
            "r\n",
            "Abrak\n",
            "Abrakadab\n",
            "Arkdba\n",
            "baaar\n",
            "arbadakarbA\n",
            "abdkrA\n",
            "11\n"
          ],
          "name": "stdout"
        }
      ]
    },
    {
      "cell_type": "code",
      "metadata": {
        "id": "83xkIQmnI6XN"
      },
      "source": [
        ""
      ],
      "execution_count": null,
      "outputs": []
    }
  ]
}