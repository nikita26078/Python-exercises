{
 "cells": [
  {
   "cell_type": "code",
   "execution_count": 7,
   "metadata": {},
   "outputs": [
    {
     "name": "stdout",
     "output_type": "stream",
     "text": [
      "test text\n",
      "Test Text\n",
      "False\n",
      "2\n",
      "0Test text\n"
     ]
    }
   ],
   "source": [
    "a = \"Test text\"\n",
    "print(a.casefold())\n",
    "print(a.title())\n",
    "print(a.isalnum())\n",
    "print(a.count(\"e\"))\n",
    "print(a.zfill(10))"
   ]
  },
  {
   "cell_type": "code",
   "execution_count": 13,
   "metadata": {},
   "outputs": [
    {
     "name": "stdout",
     "output_type": "stream",
     "text": [
      "[5, 6, 7, 12, 15, 65]\n",
      "[5, 6, 7, 12, 15, 65, 5]\n",
      "2\n",
      "7\n",
      "[5, 65, 15, 12, 6, 5]\n"
     ]
    }
   ],
   "source": [
    "l = [12, 5, 6, 7, 15, 65]\n",
    "l.sort()\n",
    "print(l)\n",
    "l.append(5)\n",
    "print(l)\n",
    "print(l.count(5))\n",
    "print(l.pop(2))\n",
    "l.reverse()\n",
    "print(l)"
   ]
  },
  {
   "cell_type": "code",
   "execution_count": 12,
   "metadata": {},
   "outputs": [
    {
     "name": "stdout",
     "output_type": "stream",
     "text": [
      "{1: 2, 2: 4, 3: 9}\n",
      "dict_items([(1, 2), (2, 4), (3, 9)])\n",
      "dict_keys([1, 2, 3])\n",
      "dict_values([2, 4, 9])\n",
      "{1: 2, 2: 4, 3: 9, 7: 8}\n"
     ]
    }
   ],
   "source": [
    "d = {1: 2, 2: 4, 3: 9}\n",
    "print(d.copy())\n",
    "print(d.items())\n",
    "print(d.keys())\n",
    "print(d.values())\n",
    "d.update({7: 8})\n",
    "print(d)"
   ]
  },
  {
   "cell_type": "code",
   "execution_count": 11,
   "metadata": {},
   "outputs": [
    {
     "name": "stdout",
     "output_type": "stream",
     "text": [
      "3\n",
      "1\n"
     ]
    }
   ],
   "source": [
    "c = (1, 2, 5, 7, 12)\n",
    "print(c.index(7))\n",
    "print(c.count(2))"
   ]
  },
  {
   "cell_type": "code",
   "execution_count": 14,
   "metadata": {},
   "outputs": [
    {
     "name": "stdout",
     "output_type": "stream",
     "text": [
      "14\n",
      "Hello\n",
      "World\n",
      "['Hello World!\\n']\n",
      "[]\n"
     ]
    }
   ],
   "source": [
    "file = open(\"some.txt\", \"w+\")\n",
    "file.write(\"Hello World!\\n\")\n",
    "print(file.tell())\n",
    "file.seek(0)\n",
    "print(file.read(5))\n",
    "file.seek(6)\n",
    "print(file.read(5))\n",
    "file.seek(0)\n",
    "print(file.readlines())\n",
    "file.truncate(0)\n",
    "print(file.readlines())\n",
    "file.close()"
   ]
  },
  {
   "cell_type": "code",
   "execution_count": 0,
   "metadata": {},
   "outputs": [],
   "source": []
  }
 ],
 "metadata": {
  "kernelspec": {
   "display_name": "Python 3",
   "language": "python",
   "name": "python3"
  },
  "language_info": {
   "codemirror_mode": {
    "name": "ipython",
    "version": 3
   },
   "file_extension": ".py",
   "mimetype": "text/x-python",
   "name": "python",
   "nbconvert_exporter": "python",
   "pygments_lexer": "ipython3",
   "version": "3.8.5"
  }
 },
 "nbformat": 4,
 "nbformat_minor": 4
}
