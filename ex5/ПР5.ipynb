{
 "cells": [
  {
   "cell_type": "code",
   "execution_count": 32,
   "metadata": {},
   "outputs": [
    {
     "name": "stdout",
     "output_type": "stream",
     "text": [
      "Hello world\n",
      "3\n",
      "Test notepad\n"
     ]
    }
   ],
   "source": [
    "class Notepad:\n",
    "    notes = []\n",
    "    name = \"\"\n",
    "    \n",
    "    def __init__(self, name):\n",
    "        self.name = name\n",
    "    \n",
    "    def add(self, note):\n",
    "        self.notes.append(note)\n",
    "    \n",
    "    def count(self):\n",
    "        return len(self.notes)\n",
    "    \n",
    "    def print_out(self, id):\n",
    "        if id < self.count():\n",
    "            print(self.notes[id])\n",
    "        else:\n",
    "            print(\"Not found\")\n",
    "        \n",
    "notepad = Notepad(\"Test notepad\")\n",
    "notepad.add(\"test\")\n",
    "notepad.add(\"text\")\n",
    "notepad.add(\"Hello world\")\n",
    "notepad.print_out(2)\n",
    "\n",
    "print(notepad.count())\n",
    "print(notepad.name)"
   ]
  },
  {
   "cell_type": "code",
   "execution_count": null,
   "metadata": {},
   "outputs": [],
   "source": []
  }
 ],
 "metadata": {
  "kernelspec": {
   "display_name": "Python 3",
   "language": "python",
   "name": "python3"
  },
  "language_info": {
   "codemirror_mode": {
    "name": "ipython",
    "version": 3
   },
   "file_extension": ".py",
   "mimetype": "text/x-python",
   "name": "python",
   "nbconvert_exporter": "python",
   "pygments_lexer": "ipython3",
   "version": "3.8.5"
  }
 },
 "nbformat": 4,
 "nbformat_minor": 4
}
